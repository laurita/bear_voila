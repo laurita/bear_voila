{
 "cells": [
  {
   "cell_type": "code",
   "execution_count": 34,
   "id": "49ea5af2-f28a-4dac-8702-01020a293c89",
   "metadata": {},
   "outputs": [],
   "source": [
    "! [ -e /content ] && pip install -U fastbook\n",
    "import fastbook\n",
    "fastbook.setup_book()"
   ]
  },
  {
   "cell_type": "code",
   "execution_count": 35,
   "id": "7aa735fa-b323-40a1-9e6b-426821c49e1a",
   "metadata": {},
   "outputs": [],
   "source": [
    "#!conda install -c conda-forge jupyterlab_widgets\n",
    "#!conda install -c conda-forge ipywidgets"
   ]
  },
  {
   "cell_type": "code",
   "execution_count": 36,
   "id": "c8586a0a-63bc-4700-8ff4-91c128a9df6e",
   "metadata": {},
   "outputs": [],
   "source": [
    "import ipywidgets as widgets"
   ]
  },
  {
   "cell_type": "code",
   "execution_count": 37,
   "id": "e2a4700f-406c-48d4-86e7-9c423a1ca81d",
   "metadata": {},
   "outputs": [],
   "source": [
    "from fastbook import *\n",
    "from fastai.vision.widgets import *"
   ]
  },
  {
   "cell_type": "code",
   "execution_count": 38,
   "id": "d6e7877d-0d0d-4f1e-adf3-e2bc216eae56",
   "metadata": {},
   "outputs": [],
   "source": [
    "from IPython.display import display"
   ]
  },
  {
   "cell_type": "code",
   "execution_count": 49,
   "id": "035a2cf7-bef6-4e0d-b13b-ec66669b3acd",
   "metadata": {},
   "outputs": [],
   "source": [
    "path = Path()\n",
    "path.ls(file_exts='.pkl')\n",
    "learn_inf = load_learner(path/'export.pkl')"
   ]
  },
  {
   "cell_type": "code",
   "execution_count": 50,
   "id": "66d40ce0-5f2f-47a7-8e0c-a76b836b6850",
   "metadata": {},
   "outputs": [],
   "source": [
    "btn_upload = widgets.FileUpload()"
   ]
  },
  {
   "cell_type": "code",
   "execution_count": 51,
   "id": "6ed9e6c8-13f3-4bd4-b85d-5a807000d253",
   "metadata": {},
   "outputs": [],
   "source": [
    "out_pl = widgets.Output()"
   ]
  },
  {
   "cell_type": "code",
   "execution_count": 52,
   "id": "35a93401-4d0a-48bf-b59d-7a98e5d70966",
   "metadata": {},
   "outputs": [],
   "source": [
    "lbl_pred = widgets.Label()"
   ]
  },
  {
   "cell_type": "code",
   "execution_count": 53,
   "id": "d0395c00-0443-476b-9979-f80df5dc1170",
   "metadata": {},
   "outputs": [],
   "source": [
    "btn_run = widgets.Button(description='Classify')"
   ]
  },
  {
   "cell_type": "code",
   "execution_count": 54,
   "id": "af8ef20e-e5cd-493b-8147-aa4d564b40d0",
   "metadata": {},
   "outputs": [],
   "source": [
    "import matplotlib.pyplot as plt\n",
    "from PIL import Image\n",
    "from io import BytesIO\n",
    "\n",
    "def on_click_classify(change):\n",
    "    img = Image.open(BytesIO(btn_upload.value[-1].content))  # change this\n",
    "    out_pl.clear_output()\n",
    "    with out_pl: display(img.to_thumb(128,128))\n",
    "    img = np.array(img)                                      # and add this\n",
    "    pred,pred_idx,probs = learn_inf.predict(img)\n",
    "    lbl_pred.value = f'Prediction: {pred}; Probability: {probs[pred_idx]:.04f}'\n",
    "\n",
    "\n",
    "btn_run.on_click(on_click_classify)"
   ]
  },
  {
   "cell_type": "code",
   "execution_count": 55,
   "id": "7216b68d-9cef-4a39-b0df-333a650457aa",
   "metadata": {},
   "outputs": [
    {
     "data": {
      "application/vnd.jupyter.widget-view+json": {
       "model_id": "bb5da467528840a5b009f41775a4951f",
       "version_major": 2,
       "version_minor": 0
      },
      "text/plain": [
       "VBox(children=(Label(value='Select your bear!'), FileUpload(value=(), description='Upload'), Button(descriptio…"
      ]
     },
     "execution_count": 55,
     "metadata": {},
     "output_type": "execute_result"
    }
   ],
   "source": [
    "#hide_output\n",
    "VBox([widgets.Label('Select your bear!'), \n",
    "      btn_upload, btn_run, out_pl, lbl_pred])"
   ]
  },
  {
   "cell_type": "code",
   "execution_count": 33,
   "id": "192c4907-5317-4df7-9c69-e1cc7b6189c1",
   "metadata": {},
   "outputs": [
    {
     "name": "stdout",
     "output_type": "stream",
     "text": [
      "Requirement already satisfied: voila in /Users/laurapumpute/miniconda3/envs/fastbook/lib/python3.11/site-packages (0.5.4)\n",
      "Requirement already satisfied: jupyter-client<9,>=7.4.4 in /Users/laurapumpute/miniconda3/envs/fastbook/lib/python3.11/site-packages (from voila) (8.3.1)\n",
      "Requirement already satisfied: jupyter-core>=4.11.0 in /Users/laurapumpute/miniconda3/envs/fastbook/lib/python3.11/site-packages (from voila) (5.3.2)\n",
      "Requirement already satisfied: jupyter-server<3,>=2.0.0 in /Users/laurapumpute/miniconda3/envs/fastbook/lib/python3.11/site-packages (from voila) (2.7.3)\n",
      "Requirement already satisfied: jupyterlab-server<3,>=2.3.0 in /Users/laurapumpute/miniconda3/envs/fastbook/lib/python3.11/site-packages (from voila) (2.25.0)\n",
      "Requirement already satisfied: nbclient<0.8,>=0.4.0 in /Users/laurapumpute/miniconda3/envs/fastbook/lib/python3.11/site-packages (from voila) (0.7.4)\n",
      "Requirement already satisfied: nbconvert<8,>=6.4.5 in /Users/laurapumpute/miniconda3/envs/fastbook/lib/python3.11/site-packages (from voila) (7.8.0)\n",
      "Requirement already satisfied: traitlets<6,>=5.0.3 in /Users/laurapumpute/miniconda3/envs/fastbook/lib/python3.11/site-packages (from voila) (5.10.1)\n",
      "Requirement already satisfied: websockets>=9.0 in /Users/laurapumpute/miniconda3/envs/fastbook/lib/python3.11/site-packages (from voila) (11.0.3)\n",
      "Requirement already satisfied: python-dateutil>=2.8.2 in /Users/laurapumpute/miniconda3/envs/fastbook/lib/python3.11/site-packages (from jupyter-client<9,>=7.4.4->voila) (2.8.2)\n",
      "Requirement already satisfied: pyzmq>=23.0 in /Users/laurapumpute/miniconda3/envs/fastbook/lib/python3.11/site-packages (from jupyter-client<9,>=7.4.4->voila) (25.1.1)\n",
      "Requirement already satisfied: tornado>=6.2 in /Users/laurapumpute/miniconda3/envs/fastbook/lib/python3.11/site-packages (from jupyter-client<9,>=7.4.4->voila) (6.3.3)\n",
      "Requirement already satisfied: platformdirs>=2.5 in /Users/laurapumpute/miniconda3/envs/fastbook/lib/python3.11/site-packages (from jupyter-core>=4.11.0->voila) (3.10.0)\n",
      "Requirement already satisfied: anyio>=3.1.0 in /Users/laurapumpute/miniconda3/envs/fastbook/lib/python3.11/site-packages (from jupyter-server<3,>=2.0.0->voila) (4.0.0)\n",
      "Requirement already satisfied: argon2-cffi in /Users/laurapumpute/miniconda3/envs/fastbook/lib/python3.11/site-packages (from jupyter-server<3,>=2.0.0->voila) (23.1.0)\n",
      "Requirement already satisfied: jinja2 in /Users/laurapumpute/miniconda3/envs/fastbook/lib/python3.11/site-packages (from jupyter-server<3,>=2.0.0->voila) (3.1.2)\n",
      "Requirement already satisfied: jupyter-events>=0.6.0 in /Users/laurapumpute/miniconda3/envs/fastbook/lib/python3.11/site-packages (from jupyter-server<3,>=2.0.0->voila) (0.7.0)\n",
      "Requirement already satisfied: jupyter-server-terminals in /Users/laurapumpute/miniconda3/envs/fastbook/lib/python3.11/site-packages (from jupyter-server<3,>=2.0.0->voila) (0.4.4)\n",
      "Requirement already satisfied: nbformat>=5.3.0 in /Users/laurapumpute/miniconda3/envs/fastbook/lib/python3.11/site-packages (from jupyter-server<3,>=2.0.0->voila) (5.9.2)\n",
      "Requirement already satisfied: overrides in /Users/laurapumpute/miniconda3/envs/fastbook/lib/python3.11/site-packages (from jupyter-server<3,>=2.0.0->voila) (7.4.0)\n",
      "Requirement already satisfied: packaging in /Users/laurapumpute/miniconda3/envs/fastbook/lib/python3.11/site-packages (from jupyter-server<3,>=2.0.0->voila) (23.1)\n",
      "Requirement already satisfied: prometheus-client in /Users/laurapumpute/miniconda3/envs/fastbook/lib/python3.11/site-packages (from jupyter-server<3,>=2.0.0->voila) (0.17.1)\n",
      "Requirement already satisfied: send2trash>=1.8.2 in /Users/laurapumpute/miniconda3/envs/fastbook/lib/python3.11/site-packages (from jupyter-server<3,>=2.0.0->voila) (1.8.2)\n",
      "Requirement already satisfied: terminado>=0.8.3 in /Users/laurapumpute/miniconda3/envs/fastbook/lib/python3.11/site-packages (from jupyter-server<3,>=2.0.0->voila) (0.17.1)\n",
      "Requirement already satisfied: websocket-client in /Users/laurapumpute/miniconda3/envs/fastbook/lib/python3.11/site-packages (from jupyter-server<3,>=2.0.0->voila) (1.6.3)\n",
      "Requirement already satisfied: babel>=2.10 in /Users/laurapumpute/miniconda3/envs/fastbook/lib/python3.11/site-packages (from jupyterlab-server<3,>=2.3.0->voila) (2.12.1)\n",
      "Requirement already satisfied: json5>=0.9.0 in /Users/laurapumpute/miniconda3/envs/fastbook/lib/python3.11/site-packages (from jupyterlab-server<3,>=2.3.0->voila) (0.9.14)\n",
      "Requirement already satisfied: jsonschema>=4.18.0 in /Users/laurapumpute/miniconda3/envs/fastbook/lib/python3.11/site-packages (from jupyterlab-server<3,>=2.3.0->voila) (4.19.1)\n",
      "Requirement already satisfied: requests>=2.31 in /Users/laurapumpute/miniconda3/envs/fastbook/lib/python3.11/site-packages (from jupyterlab-server<3,>=2.3.0->voila) (2.31.0)\n",
      "Requirement already satisfied: beautifulsoup4 in /Users/laurapumpute/miniconda3/envs/fastbook/lib/python3.11/site-packages (from nbconvert<8,>=6.4.5->voila) (4.12.2)\n",
      "Requirement already satisfied: bleach!=5.0.0 in /Users/laurapumpute/miniconda3/envs/fastbook/lib/python3.11/site-packages (from nbconvert<8,>=6.4.5->voila) (6.0.0)\n",
      "Requirement already satisfied: defusedxml in /Users/laurapumpute/miniconda3/envs/fastbook/lib/python3.11/site-packages (from nbconvert<8,>=6.4.5->voila) (0.7.1)\n",
      "Requirement already satisfied: jupyterlab-pygments in /Users/laurapumpute/miniconda3/envs/fastbook/lib/python3.11/site-packages (from nbconvert<8,>=6.4.5->voila) (0.2.2)\n",
      "Requirement already satisfied: markupsafe>=2.0 in /Users/laurapumpute/miniconda3/envs/fastbook/lib/python3.11/site-packages (from nbconvert<8,>=6.4.5->voila) (2.1.1)\n",
      "Requirement already satisfied: mistune<4,>=2.0.3 in /Users/laurapumpute/miniconda3/envs/fastbook/lib/python3.11/site-packages (from nbconvert<8,>=6.4.5->voila) (3.0.1)\n",
      "Requirement already satisfied: pandocfilters>=1.4.1 in /Users/laurapumpute/miniconda3/envs/fastbook/lib/python3.11/site-packages (from nbconvert<8,>=6.4.5->voila) (1.5.0)\n",
      "Requirement already satisfied: pygments>=2.4.1 in /Users/laurapumpute/miniconda3/envs/fastbook/lib/python3.11/site-packages (from nbconvert<8,>=6.4.5->voila) (2.16.1)\n",
      "Requirement already satisfied: tinycss2 in /Users/laurapumpute/miniconda3/envs/fastbook/lib/python3.11/site-packages (from nbconvert<8,>=6.4.5->voila) (1.2.1)\n",
      "Requirement already satisfied: idna>=2.8 in /Users/laurapumpute/miniconda3/envs/fastbook/lib/python3.11/site-packages (from anyio>=3.1.0->jupyter-server<3,>=2.0.0->voila) (3.4)\n",
      "Requirement already satisfied: sniffio>=1.1 in /Users/laurapumpute/miniconda3/envs/fastbook/lib/python3.11/site-packages (from anyio>=3.1.0->jupyter-server<3,>=2.0.0->voila) (1.3.0)\n",
      "Requirement already satisfied: six>=1.9.0 in /Users/laurapumpute/miniconda3/envs/fastbook/lib/python3.11/site-packages (from bleach!=5.0.0->nbconvert<8,>=6.4.5->voila) (1.16.0)\n",
      "Requirement already satisfied: webencodings in /Users/laurapumpute/miniconda3/envs/fastbook/lib/python3.11/site-packages (from bleach!=5.0.0->nbconvert<8,>=6.4.5->voila) (0.5.1)\n",
      "Requirement already satisfied: attrs>=22.2.0 in /Users/laurapumpute/miniconda3/envs/fastbook/lib/python3.11/site-packages (from jsonschema>=4.18.0->jupyterlab-server<3,>=2.3.0->voila) (23.1.0)\n",
      "Requirement already satisfied: jsonschema-specifications>=2023.03.6 in /Users/laurapumpute/miniconda3/envs/fastbook/lib/python3.11/site-packages (from jsonschema>=4.18.0->jupyterlab-server<3,>=2.3.0->voila) (2023.7.1)\n",
      "Requirement already satisfied: referencing>=0.28.4 in /Users/laurapumpute/miniconda3/envs/fastbook/lib/python3.11/site-packages (from jsonschema>=4.18.0->jupyterlab-server<3,>=2.3.0->voila) (0.30.2)\n",
      "Requirement already satisfied: rpds-py>=0.7.1 in /Users/laurapumpute/miniconda3/envs/fastbook/lib/python3.11/site-packages (from jsonschema>=4.18.0->jupyterlab-server<3,>=2.3.0->voila) (0.10.3)\n",
      "Requirement already satisfied: python-json-logger>=2.0.4 in /Users/laurapumpute/miniconda3/envs/fastbook/lib/python3.11/site-packages (from jupyter-events>=0.6.0->jupyter-server<3,>=2.0.0->voila) (2.0.7)\n",
      "Requirement already satisfied: pyyaml>=5.3 in /Users/laurapumpute/miniconda3/envs/fastbook/lib/python3.11/site-packages (from jupyter-events>=0.6.0->jupyter-server<3,>=2.0.0->voila) (6.0.1)\n",
      "Requirement already satisfied: rfc3339-validator in /Users/laurapumpute/miniconda3/envs/fastbook/lib/python3.11/site-packages (from jupyter-events>=0.6.0->jupyter-server<3,>=2.0.0->voila) (0.1.4)\n",
      "Requirement already satisfied: rfc3986-validator>=0.1.1 in /Users/laurapumpute/miniconda3/envs/fastbook/lib/python3.11/site-packages (from jupyter-events>=0.6.0->jupyter-server<3,>=2.0.0->voila) (0.1.1)\n",
      "Requirement already satisfied: fastjsonschema in /Users/laurapumpute/miniconda3/envs/fastbook/lib/python3.11/site-packages (from nbformat>=5.3.0->jupyter-server<3,>=2.0.0->voila) (2.18.0)\n",
      "Requirement already satisfied: charset-normalizer<4,>=2 in /Users/laurapumpute/miniconda3/envs/fastbook/lib/python3.11/site-packages (from requests>=2.31->jupyterlab-server<3,>=2.3.0->voila) (2.0.4)\n",
      "Requirement already satisfied: urllib3<3,>=1.21.1 in /Users/laurapumpute/miniconda3/envs/fastbook/lib/python3.11/site-packages (from requests>=2.31->jupyterlab-server<3,>=2.3.0->voila) (1.26.16)\n",
      "Requirement already satisfied: certifi>=2017.4.17 in /Users/laurapumpute/miniconda3/envs/fastbook/lib/python3.11/site-packages (from requests>=2.31->jupyterlab-server<3,>=2.3.0->voila) (2023.7.22)\n",
      "Requirement already satisfied: ptyprocess in /Users/laurapumpute/miniconda3/envs/fastbook/lib/python3.11/site-packages (from terminado>=0.8.3->jupyter-server<3,>=2.0.0->voila) (0.7.0)\n",
      "Requirement already satisfied: argon2-cffi-bindings in /Users/laurapumpute/miniconda3/envs/fastbook/lib/python3.11/site-packages (from argon2-cffi->jupyter-server<3,>=2.0.0->voila) (21.2.0)\n",
      "Requirement already satisfied: soupsieve>1.2 in /Users/laurapumpute/miniconda3/envs/fastbook/lib/python3.11/site-packages (from beautifulsoup4->nbconvert<8,>=6.4.5->voila) (2.5)\n",
      "Requirement already satisfied: fqdn in /Users/laurapumpute/miniconda3/envs/fastbook/lib/python3.11/site-packages (from jsonschema>=4.18.0->jupyterlab-server<3,>=2.3.0->voila) (1.5.1)\n",
      "Requirement already satisfied: isoduration in /Users/laurapumpute/miniconda3/envs/fastbook/lib/python3.11/site-packages (from jsonschema>=4.18.0->jupyterlab-server<3,>=2.3.0->voila) (20.11.0)\n",
      "Requirement already satisfied: jsonpointer>1.13 in /Users/laurapumpute/miniconda3/envs/fastbook/lib/python3.11/site-packages (from jsonschema>=4.18.0->jupyterlab-server<3,>=2.3.0->voila) (2.4)\n",
      "Requirement already satisfied: uri-template in /Users/laurapumpute/miniconda3/envs/fastbook/lib/python3.11/site-packages (from jsonschema>=4.18.0->jupyterlab-server<3,>=2.3.0->voila) (1.3.0)\n",
      "Requirement already satisfied: webcolors>=1.11 in /Users/laurapumpute/miniconda3/envs/fastbook/lib/python3.11/site-packages (from jsonschema>=4.18.0->jupyterlab-server<3,>=2.3.0->voila) (1.13)\n",
      "Requirement already satisfied: cffi>=1.0.1 in /Users/laurapumpute/miniconda3/envs/fastbook/lib/python3.11/site-packages (from argon2-cffi-bindings->argon2-cffi->jupyter-server<3,>=2.0.0->voila) (1.15.1)\n",
      "Requirement already satisfied: pycparser in /Users/laurapumpute/miniconda3/envs/fastbook/lib/python3.11/site-packages (from cffi>=1.0.1->argon2-cffi-bindings->argon2-cffi->jupyter-server<3,>=2.0.0->voila) (2.21)\n",
      "Requirement already satisfied: arrow>=0.15.0 in /Users/laurapumpute/miniconda3/envs/fastbook/lib/python3.11/site-packages (from isoduration->jsonschema>=4.18.0->jupyterlab-server<3,>=2.3.0->voila) (1.2.3)\n",
      "Package jupyter_lsp took 0.0058s to import\n",
      "A `_jupyter_server_extension_points` function was not found in jupyter_lsp. Instead, a `_jupyter_server_extension_paths` function was found and will be used for now. This function name will be deprecated in future releases of Jupyter Server.\n",
      "Package jupyter_server_terminals took 0.0039s to import\n",
      "Package jupyterlab took 0.0318s to import\n",
      "Package notebook took 0.0000s to import\n",
      "Package notebook_shim took 0.0000s to import\n",
      "A `_jupyter_server_extension_points` function was not found in notebook_shim. Instead, a `_jupyter_server_extension_paths` function was found and will be used for now. This function name will be deprecated in future releases of Jupyter Server.\n",
      "Package voila.server_extension took 0.0740s to import\n",
      "Package voila took 0.0000s to import\n",
      "Enabling: voila\n",
      "- Writing config: /Users/laurapumpute/miniconda3/envs/fastbook/etc/jupyter\n",
      "    - Validating voila...\n",
      "      voila  \u001b[32mOK\u001b[0m\n",
      "    - Extension successfully enabled.\n"
     ]
    }
   ],
   "source": [
    "!jupyter server extension enable --sys-prefix voila"
   ]
  },
  {
   "cell_type": "code",
   "execution_count": null,
   "id": "a794ae0a-b171-4a0d-91b1-e8f358f0afe6",
   "metadata": {},
   "outputs": [],
   "source": []
  }
 ],
 "metadata": {
  "kernelspec": {
   "display_name": "Python 3 (ipykernel)",
   "language": "python",
   "name": "python3"
  },
  "language_info": {
   "codemirror_mode": {
    "name": "ipython",
    "version": 3
   },
   "file_extension": ".py",
   "mimetype": "text/x-python",
   "name": "python",
   "nbconvert_exporter": "python",
   "pygments_lexer": "ipython3",
   "version": "3.11.5"
  }
 },
 "nbformat": 4,
 "nbformat_minor": 5
}
